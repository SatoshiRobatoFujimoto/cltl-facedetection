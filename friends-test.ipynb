{
 "metadata": {
  "language_info": {
   "codemirror_mode": {
    "name": "ipython",
    "version": 3
   },
   "file_extension": ".py",
   "mimetype": "text/x-python",
   "name": "python",
   "nbconvert_exporter": "python",
   "pygments_lexer": "ipython3",
   "version": "3.6.12-final"
  },
  "orig_nbformat": 2,
  "kernelspec": {
   "name": "python361264bitdevpython36b497c4aa44804d618d6f72623b9d1729",
   "display_name": "Python 3.6.12 64-bit ('dev-python-3.6')"
  }
 },
 "nbformat": 4,
 "nbformat_minor": 2,
 "cells": [
  {
   "source": [
    "## load the necessary packages and define the functions"
   ],
   "cell_type": "markdown",
   "metadata": {}
  },
  {
   "cell_type": "code",
   "execution_count": 38,
   "metadata": {},
   "outputs": [],
   "source": [
    "import random\n",
    "from glob import glob\n",
    "import os\n",
    "import json\n",
    "from imutils.video import FileVideoStream\n",
    "import cv2\n",
    "from PIL import Image, ImageFont, ImageDraw\n",
    "import numpy as np\n",
    "\n",
    "def yield_images_from_video(video_path):\n",
    "    v_cap = FileVideoStream(video_path).start()\n",
    "    v_len = int(v_cap.stream.get(cv2.CAP_PROP_FRAME_COUNT))\n",
    "\n",
    "    for j in range(v_len):\n",
    "        # get video frame\n",
    "        frame = v_cap.read()\n",
    "\n",
    "        if frame is not None:\n",
    "            img_RGB = cv2.cvtColor(frame, cv2.COLOR_BGR2RGB)\n",
    "\n",
    "            yield img_RGB\n"
   ]
  },
  {
   "source": [
    "## load a random vid and its prediction made by `cltl-facedetection`"
   ],
   "cell_type": "markdown",
   "metadata": {}
  },
  {
   "cell_type": "code",
   "execution_count": 47,
   "metadata": {},
   "outputs": [
    {
     "output_type": "stream",
     "name": "stdout",
     "text": [
      "number of frames in the vid: 56\nnumber of frames in the boxes: 56\nnumber of frames in the frames: 56\nnumber of frames in the landmarks: 56\n"
     ]
    }
   ],
   "source": [
    "\n",
    "random_vid = random.choice(glob('/home/tk/datasets/MELD/MELD.Raw/train/train_splits/*.mp4'))\n",
    "\n",
    "prediction_ = '/home/tk/datasets/MELD/visual-features/box-probs-coarse-landmarks/train/' + random_vid.split('/')[-1].replace('.mp4', '.json')\n",
    "\n",
    "with open(prediction_, 'r') as stream:\n",
    "    pred = json.load(stream)\n",
    "\n",
    "\n",
    "images_all = []\n",
    "\n",
    "for img in yield_images_from_video(random_vid):\n",
    "    images_all.append(img)\n",
    "\n",
    "print(f'number of frames in the vid: {len(images_all)}')\n",
    "print(f'number of frames in the boxes: {len(pred[\"boxes\"])}')\n",
    "print(f'number of frames in the frames: {len(pred[\"probs\"])}')\n",
    "print(f'number of frames in the landmarks: {len(pred[\"landmarks\"])}')"
   ]
  },
  {
   "source": [
    "## Let's annotate them frame by frame"
   ],
   "cell_type": "markdown",
   "metadata": {}
  },
  {
   "cell_type": "code",
   "execution_count": 48,
   "metadata": {},
   "outputs": [],
   "source": [
    "for (idx, img), boxes, probs, landmarks in \\\n",
    "        zip(enumerate(images_all), pred['boxes'].values(), pred['probs'].values(), pred['landmarks'].values()):\n",
    "    # print(len(boxes), len(probs), len(landmarks))\n",
    "\n",
    "    for i, (box, prob, landmark) in enumerate(zip(boxes, probs, landmarks)):\n",
    "        x1, y1, x2, y2 = round(box[0]), round(box[1]), round(box[2]), round(box[3])\n",
    "        w = x2 - x1\n",
    "        h = y2 - y1\n",
    "\n",
    "        cv2.rectangle(img, (x1, y1), (x2, y2), (255, 0, 0), 2)\n",
    "\n",
    "        img_PIL = Image.fromarray(img)\n",
    "        d = ImageDraw.Draw(img_PIL)\n",
    "        d.text((x1, y1), str(round(prob, 3)), \n",
    "                font=ImageFont.truetype(\"SansSerif.ttf\", 25), fill=(255, 255, 0))\n",
    "        img = np.array(img_PIL)\n",
    "\n",
    "        for (x, y) in landmark:\n",
    "            x = round(x)\n",
    "            y = round(y)\n",
    "            cv2.circle(img, (x, y), 2, (0, 0, 255), -1)\n",
    "\n",
    "    img_PIL = Image.fromarray(img)\n",
    "    d = ImageDraw.Draw(img_PIL)\n",
    "    d.text((0,0), str(idx+1) + f'/{len(images_all)}', \n",
    "            font=ImageFont.truetype(\"SansSerif.ttf\", 50), fill=(255, 255, 255))\n",
    "    img = np.array(img_PIL)\n",
    "\n",
    "    cv2.imshow(\"annotated\", cv2.cvtColor(img, cv2.COLOR_RGB2BGR))\n",
    "    key = cv2.waitKey(-1)\n",
    "\n",
    "cv2. destroyAllWindows()"
   ]
  },
  {
   "cell_type": "code",
   "execution_count": null,
   "metadata": {},
   "outputs": [],
   "source": []
  }
 ]
}